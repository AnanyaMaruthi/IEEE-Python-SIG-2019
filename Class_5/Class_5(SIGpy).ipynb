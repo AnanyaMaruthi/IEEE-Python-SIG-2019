{
 "cells": [
  {
   "cell_type": "markdown",
   "metadata": {},
   "source": [
    "# Dictionaries"
   ]
  },
  {
   "cell_type": "code",
   "execution_count": 1,
   "metadata": {},
   "outputs": [
    {
     "name": "stdout",
     "output_type": "stream",
     "text": [
      "<class 'dict'>\n",
      "<class 'dict'>\n"
     ]
    }
   ],
   "source": [
    "dictionary_example = {}\n",
    "dictionary_example2 = dict()\n",
    "print(type(dictionary_example))\n",
    "print(type(dictionary_example2))"
   ]
  },
  {
   "cell_type": "code",
   "execution_count": 2,
   "metadata": {},
   "outputs": [
    {
     "ename": "TypeError",
     "evalue": "unhashable type: 'list'",
     "output_type": "error",
     "traceback": [
      "\u001b[1;31m---------------------------------------------------------------------------\u001b[0m",
      "\u001b[1;31mTypeError\u001b[0m                                 Traceback (most recent call last)",
      "\u001b[1;32m<ipython-input-2-e1a34030af8e>\u001b[0m in \u001b[0;36m<module>\u001b[1;34m\u001b[0m\n\u001b[0;32m      1\u001b[0m \u001b[0mdictionary\u001b[0m \u001b[1;33m=\u001b[0m \u001b[1;33m{\u001b[0m\u001b[1;34m\"One\"\u001b[0m \u001b[1;33m:\u001b[0m \u001b[1;36m1\u001b[0m\u001b[1;33m,\u001b[0m \u001b[1;34m\"Two\"\u001b[0m \u001b[1;33m:\u001b[0m \u001b[1;36m2\u001b[0m\u001b[1;33m}\u001b[0m\u001b[1;33m\u001b[0m\u001b[1;33m\u001b[0m\u001b[0m\n\u001b[1;32m----> 2\u001b[1;33m \u001b[0mdictionary_error\u001b[0m \u001b[1;33m=\u001b[0m \u001b[1;33m{\u001b[0m\u001b[1;33m[\u001b[0m\u001b[1;36m1\u001b[0m\u001b[1;33m,\u001b[0m \u001b[1;36m2\u001b[0m\u001b[1;33m]\u001b[0m \u001b[1;33m:\u001b[0m \u001b[1;36m1\u001b[0m\u001b[1;33m,\u001b[0m \u001b[1;33m[\u001b[0m\u001b[1;36m3\u001b[0m\u001b[1;33m,\u001b[0m \u001b[1;36m4\u001b[0m\u001b[1;33m]\u001b[0m \u001b[1;33m:\u001b[0m \u001b[1;36m2\u001b[0m\u001b[1;33m}\u001b[0m \u001b[1;31m#Keys must be immutable. Values can be mutable\u001b[0m\u001b[1;33m\u001b[0m\u001b[1;33m\u001b[0m\u001b[0m\n\u001b[0m",
      "\u001b[1;31mTypeError\u001b[0m: unhashable type: 'list'"
     ]
    }
   ],
   "source": [
    "dictionary = {\"One\" : 1, \"Two\" : 2} \n",
    "dictionary_error = {[1, 2] : 1, [3, 4] : 2} #Keys must be immutable. Values can be mutable"
   ]
  },
  {
   "cell_type": "code",
   "execution_count": 4,
   "metadata": {},
   "outputs": [
    {
     "name": "stdout",
     "output_type": "stream",
     "text": [
      "1\n",
      "1\n"
     ]
    }
   ],
   "source": [
    "#Accessing items\n",
    "print(dictionary[\"One\"])\n",
    "print(dictionary.get(\"One\"))"
   ]
  },
  {
   "cell_type": "code",
   "execution_count": 10,
   "metadata": {},
   "outputs": [
    {
     "name": "stdout",
     "output_type": "stream",
     "text": [
      "apple  :  1\n",
      "mango  :  2\n",
      "banana  :  3\n",
      "orange  :  4\n"
     ]
    }
   ],
   "source": [
    "example = {\"apple\" : 1, \"mango\" : 2, \"banana\" : 3, \"orange\": 4}\n",
    "for key in example:\n",
    "    print(key, \" : \", example[key])"
   ]
  },
  {
   "cell_type": "code",
   "execution_count": 9,
   "metadata": {},
   "outputs": [
    {
     "name": "stdout",
     "output_type": "stream",
     "text": [
      "apple\n",
      "mango\n",
      "banana\n",
      "orange\n"
     ]
    }
   ],
   "source": [
    "#Accessing all keys\n",
    "for key in example.keys():\n",
    "    print(key)"
   ]
  },
  {
   "cell_type": "code",
   "execution_count": 11,
   "metadata": {},
   "outputs": [
    {
     "name": "stdout",
     "output_type": "stream",
     "text": [
      "1\n",
      "2\n",
      "3\n",
      "4\n"
     ]
    }
   ],
   "source": [
    "#Accessing values\n",
    "for value in example.values():\n",
    "    print(value)"
   ]
  },
  {
   "cell_type": "code",
   "execution_count": 12,
   "metadata": {},
   "outputs": [
    {
     "name": "stdout",
     "output_type": "stream",
     "text": [
      "apple  :  1\n",
      "mango  :  2\n",
      "banana  :  3\n",
      "orange  :  4\n"
     ]
    }
   ],
   "source": [
    "#Accessing items\n",
    "for key, value in example.items():\n",
    "    print(key, \" : \", value)\n",
    "#keys(), values(), items() return a list of the dictionary keys, values, items respectively."
   ]
  },
  {
   "cell_type": "code",
   "execution_count": 13,
   "metadata": {},
   "outputs": [],
   "source": [
    "#Add an item\n",
    "example[\"grape\"] = 5\n",
    "example[\"apple\"] = 6 #Changes the value of apple"
   ]
  },
  {
   "cell_type": "code",
   "execution_count": 14,
   "metadata": {},
   "outputs": [
    {
     "name": "stdout",
     "output_type": "stream",
     "text": [
      "Grape is present in the dictionary\n"
     ]
    }
   ],
   "source": [
    "if \"grape\" in example:\n",
    "    print(\"Grape is present in the dictionary\")"
   ]
  },
  {
   "cell_type": "markdown",
   "metadata": {},
   "source": [
    "# File Handling"
   ]
  },
  {
   "cell_type": "markdown",
   "metadata": {},
   "source": [
    "Reading from a file"
   ]
  },
  {
   "cell_type": "markdown",
   "metadata": {},
   "source": [
    "Extracting file contents line by line"
   ]
  },
  {
   "cell_type": "code",
   "execution_count": 15,
   "metadata": {},
   "outputs": [
    {
     "name": "stdout",
     "output_type": "stream",
     "text": [
      "Modes in which files can be opened:\n",
      " \"r\" - Read - Default value. Opens a file for reading, error if the file does not exist\n",
      " \"a\" - Append - Opens a file for appending, creates the file if it does not exist\n",
      " \"w\" - Write - Opens a file for writing, creates the file if it does not exist\n",
      " \"x\" - Create - Creates the specified file, returns an error if the file exists\n",
      " \"t\" - Text - Default value. Text mode\n",
      " \"b\" - Binary - Binary mode "
     ]
    }
   ],
   "source": [
    "file = open('FileModes.txt', 'r') \n",
    "for line in file: \n",
    "    print (line, end = \" \") \n",
    "file.close()"
   ]
  },
  {
   "cell_type": "markdown",
   "metadata": {},
   "source": [
    "Extracting the file as a string"
   ]
  },
  {
   "cell_type": "code",
   "execution_count": 16,
   "metadata": {},
   "outputs": [
    {
     "name": "stdout",
     "output_type": "stream",
     "text": [
      "Modes in which files can be opened:\n",
      "\"r\" - Read - Default value. Opens a file for reading, error if the file does not exist\n",
      "\"a\" - Append - Opens a file for appending, creates the file if it does not exist\n",
      "\"w\" - Write - Opens a file for writing, creates the file if it does not exist\n",
      "\"x\" - Create - Creates the specified file, returns an error if the file exists\n",
      "\"t\" - Text - Default value. Text mode\n",
      "\"b\" - Binary - Binary mode\n"
     ]
    }
   ],
   "source": [
    "file = open(\"FileModes.txt\", \"r\")  \n",
    "print (file.read())\n",
    "file.close()"
   ]
  },
  {
   "cell_type": "code",
   "execution_count": 17,
   "metadata": {},
   "outputs": [
    {
     "name": "stdout",
     "output_type": "stream",
     "text": [
      "Modes in which files can be opened:\n",
      "\n"
     ]
    }
   ],
   "source": [
    "file = open(\"FileModes.txt\", \"r\")  \n",
    "print (file.readline())\n",
    "file.close()"
   ]
  },
  {
   "cell_type": "code",
   "execution_count": 18,
   "metadata": {},
   "outputs": [
    {
     "name": "stdout",
     "output_type": "stream",
     "text": [
      "Modes in which files can \n",
      "25\n",
      "which files can\n"
     ]
    }
   ],
   "source": [
    "file = open(\"FileModes.txt\", \"r\")  \n",
    "print (file.read(25))\n",
    "print(file.tell()) #Get current position of the cursor\n",
    "file.seek(9)\n",
    "print(file.read(15))\n",
    "file.close()"
   ]
  },
  {
   "cell_type": "markdown",
   "metadata": {},
   "source": [
    "Writing to a file"
   ]
  },
  {
   "cell_type": "code",
   "execution_count": 19,
   "metadata": {},
   "outputs": [],
   "source": [
    "file = open(\"OutputFile.txt\", \"w\")\n",
    "data = \"This is the data to be written to the output file.\"\n",
    "file.write(data)\n",
    "file.close()"
   ]
  },
  {
   "cell_type": "markdown",
   "metadata": {},
   "source": [
    "Appending data to a file"
   ]
  },
  {
   "cell_type": "code",
   "execution_count": 20,
   "metadata": {},
   "outputs": [],
   "source": [
    "file = open(\"OutputFile.txt\", \"a\")\n",
    "data = \"\\nThis is the data to be appended to the output file.\"\n",
    "file.write(data)\n",
    "file.close()"
   ]
  },
  {
   "cell_type": "code",
   "execution_count": 25,
   "metadata": {},
   "outputs": [
    {
     "name": "stdout",
     "output_type": "stream",
     "text": [
      "[[5, 7, 6], [6, 8, 5], [7, 7, 2]]\n"
     ]
    },
    {
     "ename": "TypeError",
     "evalue": "write() argument must be str, not list",
     "output_type": "error",
     "traceback": [
      "\u001b[1;31m---------------------------------------------------------------------------\u001b[0m",
      "\u001b[1;31mTypeError\u001b[0m                                 Traceback (most recent call last)",
      "\u001b[1;32m<ipython-input-25-833e903dcd12>\u001b[0m in \u001b[0;36m<module>\u001b[1;34m\u001b[0m\n\u001b[0;32m      4\u001b[0m \u001b[1;33m\u001b[0m\u001b[0m\n\u001b[0;32m      5\u001b[0m \u001b[0mfile\u001b[0m \u001b[1;33m=\u001b[0m \u001b[0mopen\u001b[0m\u001b[1;33m(\u001b[0m\u001b[1;34m\"Matrix.txt\"\u001b[0m\u001b[1;33m,\u001b[0m \u001b[1;34m\"w\"\u001b[0m\u001b[1;33m)\u001b[0m\u001b[1;33m\u001b[0m\u001b[1;33m\u001b[0m\u001b[0m\n\u001b[1;32m----> 6\u001b[1;33m \u001b[0mfile\u001b[0m\u001b[1;33m.\u001b[0m\u001b[0mwrite\u001b[0m\u001b[1;33m(\u001b[0m\u001b[0mmatrix\u001b[0m\u001b[1;33m)\u001b[0m\u001b[1;33m\u001b[0m\u001b[1;33m\u001b[0m\u001b[0m\n\u001b[0m\u001b[0;32m      7\u001b[0m \u001b[0mfile\u001b[0m\u001b[1;33m.\u001b[0m\u001b[0mclose\u001b[0m\u001b[1;33m(\u001b[0m\u001b[1;33m)\u001b[0m\u001b[1;33m\u001b[0m\u001b[1;33m\u001b[0m\u001b[0m\n",
      "\u001b[1;31mTypeError\u001b[0m: write() argument must be str, not list"
     ]
    }
   ],
   "source": [
    "import random\n",
    "matrix = [[random.randint(1,10) for _ in range(3)] for _ in range(3)]\n",
    "print(matrix)\n",
    "\n",
    "file = open(\"Matrix.txt\", \"w\")\n",
    "file.write(matrix)\n",
    "file.close()"
   ]
  },
  {
   "cell_type": "code",
   "execution_count": 26,
   "metadata": {},
   "outputs": [
    {
     "name": "stdout",
     "output_type": "stream",
     "text": [
      "['5 7 6', '6 8 5', '7 7 2']\n",
      "5 7 6 6 8 5 7 7 2\n"
     ]
    }
   ],
   "source": [
    "for i in range(len(matrix)):\n",
    "    row = matrix[i]\n",
    "    row = list(map(str, row))\n",
    "    row = \" \".join(row)\n",
    "    matrix[i] = row\n",
    "print(matrix)\n",
    "\n",
    "#matrix = list(map(str, matrix))\n",
    "matrix = \" \".join(matrix)\n",
    "print(matrix)\n",
    "\n",
    "\n",
    "file = open(\"Matrix.txt\", \"w\")\n",
    "file.write(matrix)\n",
    "file.close()"
   ]
  }
 ],
 "metadata": {
  "kernelspec": {
   "display_name": "Python 3",
   "language": "python",
   "name": "python3"
  },
  "language_info": {
   "codemirror_mode": {
    "name": "ipython",
    "version": 3
   },
   "file_extension": ".py",
   "mimetype": "text/x-python",
   "name": "python",
   "nbconvert_exporter": "python",
   "pygments_lexer": "ipython3",
   "version": "3.7.2"
  }
 },
 "nbformat": 4,
 "nbformat_minor": 2
}
